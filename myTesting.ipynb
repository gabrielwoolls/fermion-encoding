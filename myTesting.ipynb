{
 "cells": [
  {
   "cell_type": "code",
   "execution_count": 1068,
   "metadata": {},
   "outputs": [],
   "source": [
    "# import test_tensor_2d as tt ttbd\n",
    "import quimb.tensor as qtn\n",
    "import quimb as qu\n",
    "import matplotlib.pyplot as plt\n",
    "import numpy as np\n",
    "from importlib import reload\n",
    "import itertools\n",
    "import spinlessQubit as sq\n",
    "import hubbardAnalytical as han"
   ]
  },
  {
   "cell_type": "code",
   "execution_count": 132,
   "metadata": {
    "tags": []
   },
   "outputs": [
    {
     "output_type": "stream",
     "name": "stdout",
     "text": "1-----2\n|     |\n4-----5\nNone None 6 None\n"
    }
   ],
   "source": [
    "reload(sq)\n",
    "sql = sq.SpinlessQubitLattice()\n",
    "sql.t_make_stabilizers()"
   ]
  },
  {
   "cell_type": "code",
   "execution_count": 1082,
   "metadata": {
    "tags": []
   },
   "outputs": [
    {
     "output_type": "stream",
     "name": "stdout",
     "text": "Edge 3,0\nEdge 5,2\nEdge 1,4\nEdge 2,1\nEdge 1,0\nExact:  -3.4494897427831814\n[[0.5 0.5 0.5]\n [0.5 0.5 0.5]]\n\n2--h-->1   (None)\n1--h-->0,  face 6\n3--v-->0,  face 6\n5--v-->2   (None)\n1--v-->4,  face 6\n-3.449489742783177\n[[0.5 0.5 0.5]\n [0.5 0.5 0.5]]\n"
    }
   ],
   "source": [
    "reload(sq)\n",
    "reload(han)\n",
    "\n",
    "##Testing params\n",
    "T_PARAM=1\n",
    "V_PARAM=0\n",
    "MU_PARAM=0\n",
    "LX, LY = 2, 3\n",
    "\n",
    "\n",
    "### Analytical Hubbard Hamiltonian\n",
    "hub = han.FermiHubbardSpinless(Lx=LX, Ly=LY)\n",
    "hub.build_spinless_ham(t=T_PARAM, V=V_PARAM, mu=MU_PARAM)\n",
    "Hexact = hub._Ham.copy()\n",
    "gex, gsx = qu.eigh(Hexact)\n",
    "print('Exact:  {}'.format(gex[0]))\n",
    "nx = hub.state_occs(state=gsx[:,0])\n",
    "print(nx,end='\\n\\n')\n",
    "\n",
    "\n",
    "### Qubit lattice Hamiltonian\n",
    "sql = sq.SpinlessQubitLattice(Lx=LX,Ly=LY)\n",
    "sql.make_simulator_ham(t=T_PARAM, V=V_PARAM, mu=MU_PARAM)\n",
    "sql.make_stabilizer()\n",
    "\n",
    "rotHam = sql.projected_ham_3() #in \"rotated\" basis\n",
    "Uplus = sql._Uplus\n",
    "rens, reigst = qu.eigh(rotHam)\n",
    "print(rens[0])\n",
    "print(sql.state_local_occs(k=None, state=Uplus@reigst[:,0]))"
   ]
  },
  {
   "cell_type": "code",
   "execution_count": 1083,
   "metadata": {},
   "outputs": [
    {
     "output_type": "execute_result",
     "data": {
      "text/plain": "<matplotlib.legend.Legend at 0x256a823e8c8>"
     },
     "metadata": {},
     "execution_count": 1083
    },
    {
     "output_type": "display_data",
     "data": {
      "text/plain": "<Figure size 432x288 with 1 Axes>",
      "image/svg+xml": "<?xml version=\"1.0\" encoding=\"utf-8\" standalone=\"no\"?>\r\n<!DOCTYPE svg PUBLIC \"-//W3C//DTD SVG 1.1//EN\"\r\n  \"http://www.w3.org/Graphics/SVG/1.1/DTD/svg11.dtd\">\r\n<!-- Created with matplotlib (https://matplotlib.org/) -->\r\n<svg height=\"263.611875pt\" version=\"1.1\" viewBox=\"0 0 370.942187 263.611875\" width=\"370.942187pt\" xmlns=\"http://www.w3.org/2000/svg\" xmlns:xlink=\"http://www.w3.org/1999/xlink\">\r\n <defs>\r\n  <style type=\"text/css\">\r\n*{stroke-linecap:butt;stroke-linejoin:round;}\r\n  </style>\r\n </defs>\r\n <g id=\"figure_1\">\r\n  <g id=\"patch_1\">\r\n   <path d=\"M 0 263.611875 \r\nL 370.942187 263.611875 \r\nL 370.942187 0 \r\nL 0 0 \r\nz\r\n\" style=\"fill:none;\"/>\r\n  </g>\r\n  <g id=\"axes_1\">\r\n   <g id=\"patch_2\">\r\n    <path d=\"M 28.942188 239.73375 \r\nL 363.742188 239.73375 \r\nL 363.742188 22.29375 \r\nL 28.942188 22.29375 \r\nz\r\n\" style=\"fill:#ffffff;\"/>\r\n   </g>\r\n   <g id=\"matplotlib.axis_1\">\r\n    <g id=\"xtick_1\">\r\n     <g id=\"line2d_1\">\r\n      <defs>\r\n       <path d=\"M 0 0 \r\nL 0 3.5 \r\n\" id=\"mb289803025\" style=\"stroke:#000000;stroke-width:0.8;\"/>\r\n      </defs>\r\n      <g>\r\n       <use style=\"stroke:#000000;stroke-width:0.8;\" x=\"44.160369\" xlink:href=\"#mb289803025\" y=\"239.73375\"/>\r\n      </g>\r\n     </g>\r\n     <g id=\"text_1\">\r\n      <!-- 0 -->\r\n      <defs>\r\n       <path d=\"M 31.78125 66.40625 \r\nQ 24.171875 66.40625 20.328125 58.90625 \r\nQ 16.5 51.421875 16.5 36.375 \r\nQ 16.5 21.390625 20.328125 13.890625 \r\nQ 24.171875 6.390625 31.78125 6.390625 \r\nQ 39.453125 6.390625 43.28125 13.890625 \r\nQ 47.125 21.390625 47.125 36.375 \r\nQ 47.125 51.421875 43.28125 58.90625 \r\nQ 39.453125 66.40625 31.78125 66.40625 \r\nz\r\nM 31.78125 74.21875 \r\nQ 44.046875 74.21875 50.515625 64.515625 \r\nQ 56.984375 54.828125 56.984375 36.375 \r\nQ 56.984375 17.96875 50.515625 8.265625 \r\nQ 44.046875 -1.421875 31.78125 -1.421875 \r\nQ 19.53125 -1.421875 13.0625 8.265625 \r\nQ 6.59375 17.96875 6.59375 36.375 \r\nQ 6.59375 54.828125 13.0625 64.515625 \r\nQ 19.53125 74.21875 31.78125 74.21875 \r\nz\r\n\" id=\"DejaVuSans-48\"/>\r\n      </defs>\r\n      <g transform=\"translate(40.979119 254.332188)scale(0.1 -0.1)\">\r\n       <use xlink:href=\"#DejaVuSans-48\"/>\r\n      </g>\r\n     </g>\r\n    </g>\r\n    <g id=\"xtick_2\">\r\n     <g id=\"line2d_2\">\r\n      <g>\r\n       <use style=\"stroke:#000000;stroke-width:0.8;\" x=\"92.472058\" xlink:href=\"#mb289803025\" y=\"239.73375\"/>\r\n      </g>\r\n     </g>\r\n     <g id=\"text_2\">\r\n      <!-- 10 -->\r\n      <defs>\r\n       <path d=\"M 12.40625 8.296875 \r\nL 28.515625 8.296875 \r\nL 28.515625 63.921875 \r\nL 10.984375 60.40625 \r\nL 10.984375 69.390625 \r\nL 28.421875 72.90625 \r\nL 38.28125 72.90625 \r\nL 38.28125 8.296875 \r\nL 54.390625 8.296875 \r\nL 54.390625 0 \r\nL 12.40625 0 \r\nz\r\n\" id=\"DejaVuSans-49\"/>\r\n      </defs>\r\n      <g transform=\"translate(86.109558 254.332188)scale(0.1 -0.1)\">\r\n       <use xlink:href=\"#DejaVuSans-49\"/>\r\n       <use x=\"63.623047\" xlink:href=\"#DejaVuSans-48\"/>\r\n      </g>\r\n     </g>\r\n    </g>\r\n    <g id=\"xtick_3\">\r\n     <g id=\"line2d_3\">\r\n      <g>\r\n       <use style=\"stroke:#000000;stroke-width:0.8;\" x=\"140.783746\" xlink:href=\"#mb289803025\" y=\"239.73375\"/>\r\n      </g>\r\n     </g>\r\n     <g id=\"text_3\">\r\n      <!-- 20 -->\r\n      <defs>\r\n       <path d=\"M 19.1875 8.296875 \r\nL 53.609375 8.296875 \r\nL 53.609375 0 \r\nL 7.328125 0 \r\nL 7.328125 8.296875 \r\nQ 12.9375 14.109375 22.625 23.890625 \r\nQ 32.328125 33.6875 34.8125 36.53125 \r\nQ 39.546875 41.84375 41.421875 45.53125 \r\nQ 43.3125 49.21875 43.3125 52.78125 \r\nQ 43.3125 58.59375 39.234375 62.25 \r\nQ 35.15625 65.921875 28.609375 65.921875 \r\nQ 23.96875 65.921875 18.8125 64.3125 \r\nQ 13.671875 62.703125 7.8125 59.421875 \r\nL 7.8125 69.390625 \r\nQ 13.765625 71.78125 18.9375 73 \r\nQ 24.125 74.21875 28.421875 74.21875 \r\nQ 39.75 74.21875 46.484375 68.546875 \r\nQ 53.21875 62.890625 53.21875 53.421875 \r\nQ 53.21875 48.921875 51.53125 44.890625 \r\nQ 49.859375 40.875 45.40625 35.40625 \r\nQ 44.1875 33.984375 37.640625 27.21875 \r\nQ 31.109375 20.453125 19.1875 8.296875 \r\nz\r\n\" id=\"DejaVuSans-50\"/>\r\n      </defs>\r\n      <g transform=\"translate(134.421246 254.332188)scale(0.1 -0.1)\">\r\n       <use xlink:href=\"#DejaVuSans-50\"/>\r\n       <use x=\"63.623047\" xlink:href=\"#DejaVuSans-48\"/>\r\n      </g>\r\n     </g>\r\n    </g>\r\n    <g id=\"xtick_4\">\r\n     <g id=\"line2d_4\">\r\n      <g>\r\n       <use style=\"stroke:#000000;stroke-width:0.8;\" x=\"189.095434\" xlink:href=\"#mb289803025\" y=\"239.73375\"/>\r\n      </g>\r\n     </g>\r\n     <g id=\"text_4\">\r\n      <!-- 30 -->\r\n      <defs>\r\n       <path d=\"M 40.578125 39.3125 \r\nQ 47.65625 37.796875 51.625 33 \r\nQ 55.609375 28.21875 55.609375 21.1875 \r\nQ 55.609375 10.40625 48.1875 4.484375 \r\nQ 40.765625 -1.421875 27.09375 -1.421875 \r\nQ 22.515625 -1.421875 17.65625 -0.515625 \r\nQ 12.796875 0.390625 7.625 2.203125 \r\nL 7.625 11.71875 \r\nQ 11.71875 9.328125 16.59375 8.109375 \r\nQ 21.484375 6.890625 26.8125 6.890625 \r\nQ 36.078125 6.890625 40.9375 10.546875 \r\nQ 45.796875 14.203125 45.796875 21.1875 \r\nQ 45.796875 27.640625 41.28125 31.265625 \r\nQ 36.765625 34.90625 28.71875 34.90625 \r\nL 20.21875 34.90625 \r\nL 20.21875 43.015625 \r\nL 29.109375 43.015625 \r\nQ 36.375 43.015625 40.234375 45.921875 \r\nQ 44.09375 48.828125 44.09375 54.296875 \r\nQ 44.09375 59.90625 40.109375 62.90625 \r\nQ 36.140625 65.921875 28.71875 65.921875 \r\nQ 24.65625 65.921875 20.015625 65.03125 \r\nQ 15.375 64.15625 9.8125 62.3125 \r\nL 9.8125 71.09375 \r\nQ 15.4375 72.65625 20.34375 73.4375 \r\nQ 25.25 74.21875 29.59375 74.21875 \r\nQ 40.828125 74.21875 47.359375 69.109375 \r\nQ 53.90625 64.015625 53.90625 55.328125 \r\nQ 53.90625 49.265625 50.4375 45.09375 \r\nQ 46.96875 40.921875 40.578125 39.3125 \r\nz\r\n\" id=\"DejaVuSans-51\"/>\r\n      </defs>\r\n      <g transform=\"translate(182.732934 254.332188)scale(0.1 -0.1)\">\r\n       <use xlink:href=\"#DejaVuSans-51\"/>\r\n       <use x=\"63.623047\" xlink:href=\"#DejaVuSans-48\"/>\r\n      </g>\r\n     </g>\r\n    </g>\r\n    <g id=\"xtick_5\">\r\n     <g id=\"line2d_5\">\r\n      <g>\r\n       <use style=\"stroke:#000000;stroke-width:0.8;\" x=\"237.407123\" xlink:href=\"#mb289803025\" y=\"239.73375\"/>\r\n      </g>\r\n     </g>\r\n     <g id=\"text_5\">\r\n      <!-- 40 -->\r\n      <defs>\r\n       <path d=\"M 37.796875 64.3125 \r\nL 12.890625 25.390625 \r\nL 37.796875 25.390625 \r\nz\r\nM 35.203125 72.90625 \r\nL 47.609375 72.90625 \r\nL 47.609375 25.390625 \r\nL 58.015625 25.390625 \r\nL 58.015625 17.1875 \r\nL 47.609375 17.1875 \r\nL 47.609375 0 \r\nL 37.796875 0 \r\nL 37.796875 17.1875 \r\nL 4.890625 17.1875 \r\nL 4.890625 26.703125 \r\nz\r\n\" id=\"DejaVuSans-52\"/>\r\n      </defs>\r\n      <g transform=\"translate(231.044623 254.332188)scale(0.1 -0.1)\">\r\n       <use xlink:href=\"#DejaVuSans-52\"/>\r\n       <use x=\"63.623047\" xlink:href=\"#DejaVuSans-48\"/>\r\n      </g>\r\n     </g>\r\n    </g>\r\n    <g id=\"xtick_6\">\r\n     <g id=\"line2d_6\">\r\n      <g>\r\n       <use style=\"stroke:#000000;stroke-width:0.8;\" x=\"285.718811\" xlink:href=\"#mb289803025\" y=\"239.73375\"/>\r\n      </g>\r\n     </g>\r\n     <g id=\"text_6\">\r\n      <!-- 50 -->\r\n      <defs>\r\n       <path d=\"M 10.796875 72.90625 \r\nL 49.515625 72.90625 \r\nL 49.515625 64.59375 \r\nL 19.828125 64.59375 \r\nL 19.828125 46.734375 \r\nQ 21.96875 47.46875 24.109375 47.828125 \r\nQ 26.265625 48.1875 28.421875 48.1875 \r\nQ 40.625 48.1875 47.75 41.5 \r\nQ 54.890625 34.8125 54.890625 23.390625 \r\nQ 54.890625 11.625 47.5625 5.09375 \r\nQ 40.234375 -1.421875 26.90625 -1.421875 \r\nQ 22.3125 -1.421875 17.546875 -0.640625 \r\nQ 12.796875 0.140625 7.71875 1.703125 \r\nL 7.71875 11.625 \r\nQ 12.109375 9.234375 16.796875 8.0625 \r\nQ 21.484375 6.890625 26.703125 6.890625 \r\nQ 35.15625 6.890625 40.078125 11.328125 \r\nQ 45.015625 15.765625 45.015625 23.390625 \r\nQ 45.015625 31 40.078125 35.4375 \r\nQ 35.15625 39.890625 26.703125 39.890625 \r\nQ 22.75 39.890625 18.8125 39.015625 \r\nQ 14.890625 38.140625 10.796875 36.28125 \r\nz\r\n\" id=\"DejaVuSans-53\"/>\r\n      </defs>\r\n      <g transform=\"translate(279.356311 254.332188)scale(0.1 -0.1)\">\r\n       <use xlink:href=\"#DejaVuSans-53\"/>\r\n       <use x=\"63.623047\" xlink:href=\"#DejaVuSans-48\"/>\r\n      </g>\r\n     </g>\r\n    </g>\r\n    <g id=\"xtick_7\">\r\n     <g id=\"line2d_7\">\r\n      <g>\r\n       <use style=\"stroke:#000000;stroke-width:0.8;\" x=\"334.030499\" xlink:href=\"#mb289803025\" y=\"239.73375\"/>\r\n      </g>\r\n     </g>\r\n     <g id=\"text_7\">\r\n      <!-- 60 -->\r\n      <defs>\r\n       <path d=\"M 33.015625 40.375 \r\nQ 26.375 40.375 22.484375 35.828125 \r\nQ 18.609375 31.296875 18.609375 23.390625 \r\nQ 18.609375 15.53125 22.484375 10.953125 \r\nQ 26.375 6.390625 33.015625 6.390625 \r\nQ 39.65625 6.390625 43.53125 10.953125 \r\nQ 47.40625 15.53125 47.40625 23.390625 \r\nQ 47.40625 31.296875 43.53125 35.828125 \r\nQ 39.65625 40.375 33.015625 40.375 \r\nz\r\nM 52.59375 71.296875 \r\nL 52.59375 62.3125 \r\nQ 48.875 64.0625 45.09375 64.984375 \r\nQ 41.3125 65.921875 37.59375 65.921875 \r\nQ 27.828125 65.921875 22.671875 59.328125 \r\nQ 17.53125 52.734375 16.796875 39.40625 \r\nQ 19.671875 43.65625 24.015625 45.921875 \r\nQ 28.375 48.1875 33.59375 48.1875 \r\nQ 44.578125 48.1875 50.953125 41.515625 \r\nQ 57.328125 34.859375 57.328125 23.390625 \r\nQ 57.328125 12.15625 50.6875 5.359375 \r\nQ 44.046875 -1.421875 33.015625 -1.421875 \r\nQ 20.359375 -1.421875 13.671875 8.265625 \r\nQ 6.984375 17.96875 6.984375 36.375 \r\nQ 6.984375 53.65625 15.1875 63.9375 \r\nQ 23.390625 74.21875 37.203125 74.21875 \r\nQ 40.921875 74.21875 44.703125 73.484375 \r\nQ 48.484375 72.75 52.59375 71.296875 \r\nz\r\n\" id=\"DejaVuSans-54\"/>\r\n      </defs>\r\n      <g transform=\"translate(327.667999 254.332188)scale(0.1 -0.1)\">\r\n       <use xlink:href=\"#DejaVuSans-54\"/>\r\n       <use x=\"63.623047\" xlink:href=\"#DejaVuSans-48\"/>\r\n      </g>\r\n     </g>\r\n    </g>\r\n   </g>\r\n   <g id=\"matplotlib.axis_2\">\r\n    <g id=\"ytick_1\">\r\n     <g id=\"line2d_8\">\r\n      <defs>\r\n       <path d=\"M 0 0 \r\nL -3.5 0 \r\n\" id=\"mce09db9e9c\" style=\"stroke:#000000;stroke-width:0.8;\"/>\r\n      </defs>\r\n      <g>\r\n       <use style=\"stroke:#000000;stroke-width:0.8;\" x=\"28.942188\" xlink:href=\"#mce09db9e9c\" y=\"216.971127\"/>\r\n      </g>\r\n     </g>\r\n     <g id=\"text_8\">\r\n      <!-- −3 -->\r\n      <defs>\r\n       <path d=\"M 10.59375 35.5 \r\nL 73.1875 35.5 \r\nL 73.1875 27.203125 \r\nL 10.59375 27.203125 \r\nz\r\n\" id=\"DejaVuSans-8722\"/>\r\n      </defs>\r\n      <g transform=\"translate(7.2 220.770346)scale(0.1 -0.1)\">\r\n       <use xlink:href=\"#DejaVuSans-8722\"/>\r\n       <use x=\"83.789062\" xlink:href=\"#DejaVuSans-51\"/>\r\n      </g>\r\n     </g>\r\n    </g>\r\n    <g id=\"ytick_2\">\r\n     <g id=\"line2d_9\">\r\n      <g>\r\n       <use style=\"stroke:#000000;stroke-width:0.8;\" x=\"28.942188\" xlink:href=\"#mce09db9e9c\" y=\"188.318668\"/>\r\n      </g>\r\n     </g>\r\n     <g id=\"text_9\">\r\n      <!-- −2 -->\r\n      <g transform=\"translate(7.2 192.117887)scale(0.1 -0.1)\">\r\n       <use xlink:href=\"#DejaVuSans-8722\"/>\r\n       <use x=\"83.789062\" xlink:href=\"#DejaVuSans-50\"/>\r\n      </g>\r\n     </g>\r\n    </g>\r\n    <g id=\"ytick_3\">\r\n     <g id=\"line2d_10\">\r\n      <g>\r\n       <use style=\"stroke:#000000;stroke-width:0.8;\" x=\"28.942188\" xlink:href=\"#mce09db9e9c\" y=\"159.666209\"/>\r\n      </g>\r\n     </g>\r\n     <g id=\"text_10\">\r\n      <!-- −1 -->\r\n      <g transform=\"translate(7.2 163.465428)scale(0.1 -0.1)\">\r\n       <use xlink:href=\"#DejaVuSans-8722\"/>\r\n       <use x=\"83.789062\" xlink:href=\"#DejaVuSans-49\"/>\r\n      </g>\r\n     </g>\r\n    </g>\r\n    <g id=\"ytick_4\">\r\n     <g id=\"line2d_11\">\r\n      <g>\r\n       <use style=\"stroke:#000000;stroke-width:0.8;\" x=\"28.942188\" xlink:href=\"#mce09db9e9c\" y=\"131.01375\"/>\r\n      </g>\r\n     </g>\r\n     <g id=\"text_11\">\r\n      <!-- 0 -->\r\n      <g transform=\"translate(15.579688 134.812969)scale(0.1 -0.1)\">\r\n       <use xlink:href=\"#DejaVuSans-48\"/>\r\n      </g>\r\n     </g>\r\n    </g>\r\n    <g id=\"ytick_5\">\r\n     <g id=\"line2d_12\">\r\n      <g>\r\n       <use style=\"stroke:#000000;stroke-width:0.8;\" x=\"28.942188\" xlink:href=\"#mce09db9e9c\" y=\"102.361291\"/>\r\n      </g>\r\n     </g>\r\n     <g id=\"text_12\">\r\n      <!-- 1 -->\r\n      <g transform=\"translate(15.579688 106.16051)scale(0.1 -0.1)\">\r\n       <use xlink:href=\"#DejaVuSans-49\"/>\r\n      </g>\r\n     </g>\r\n    </g>\r\n    <g id=\"ytick_6\">\r\n     <g id=\"line2d_13\">\r\n      <g>\r\n       <use style=\"stroke:#000000;stroke-width:0.8;\" x=\"28.942188\" xlink:href=\"#mce09db9e9c\" y=\"73.708832\"/>\r\n      </g>\r\n     </g>\r\n     <g id=\"text_13\">\r\n      <!-- 2 -->\r\n      <g transform=\"translate(15.579688 77.508051)scale(0.1 -0.1)\">\r\n       <use xlink:href=\"#DejaVuSans-50\"/>\r\n      </g>\r\n     </g>\r\n    </g>\r\n    <g id=\"ytick_7\">\r\n     <g id=\"line2d_14\">\r\n      <g>\r\n       <use style=\"stroke:#000000;stroke-width:0.8;\" x=\"28.942188\" xlink:href=\"#mce09db9e9c\" y=\"45.056373\"/>\r\n      </g>\r\n     </g>\r\n     <g id=\"text_14\">\r\n      <!-- 3 -->\r\n      <g transform=\"translate(15.579688 48.855592)scale(0.1 -0.1)\">\r\n       <use xlink:href=\"#DejaVuSans-51\"/>\r\n      </g>\r\n     </g>\r\n    </g>\r\n   </g>\r\n   <g id=\"line2d_15\">\r\n    <path clip-path=\"url(#p8304b6daa6)\" d=\"M 44.160369 229.850114 \r\nL 48.991538 215.018509 \r\nL 53.822707 215.018509 \r\nL 58.653876 201.197655 \r\nL 63.485045 201.197655 \r\nL 68.316213 200.186905 \r\nL 73.147382 186.36605 \r\nL 77.978551 186.36605 \r\nL 82.80972 186.36605 \r\nL 87.640889 186.36605 \r\nL 92.472058 174.497813 \r\nL 97.303226 174.497813 \r\nL 102.134395 172.545196 \r\nL 106.965564 171.534446 \r\nL 111.796733 171.534446 \r\nL 116.627902 159.666209 \r\nL 121.459071 159.666209 \r\nL 126.290239 159.666209 \r\nL 131.121408 159.666209 \r\nL 135.952577 157.713591 \r\nL 140.783746 157.713591 \r\nL 145.614915 145.845354 \r\nL 150.446084 145.845354 \r\nL 155.277252 145.845354 \r\nL 160.108421 145.845354 \r\nL 164.93959 144.834605 \r\nL 169.770759 144.834605 \r\nL 174.601928 142.881987 \r\nL 179.433097 131.01375 \r\nL 184.264265 131.01375 \r\nL 189.095434 131.01375 \r\nL 193.926603 131.01375 \r\nL 198.757772 131.01375 \r\nL 203.588941 131.01375 \r\nL 208.42011 131.01375 \r\nL 213.251278 131.01375 \r\nL 218.082447 119.145513 \r\nL 222.913616 117.192895 \r\nL 227.744785 117.192895 \r\nL 232.575954 116.182146 \r\nL 237.407123 116.182146 \r\nL 242.238291 116.182146 \r\nL 247.06946 116.182146 \r\nL 251.900629 104.313909 \r\nL 256.731798 104.313909 \r\nL 261.562967 102.361291 \r\nL 266.394136 102.361291 \r\nL 271.225304 102.361291 \r\nL 276.056473 102.361291 \r\nL 280.887642 90.493054 \r\nL 285.718811 90.493054 \r\nL 290.54998 89.482304 \r\nL 295.381149 87.529687 \r\nL 300.212317 87.529687 \r\nL 305.043486 75.66145 \r\nL 309.874655 75.66145 \r\nL 314.705824 75.66145 \r\nL 319.536993 75.66145 \r\nL 324.368162 61.840595 \r\nL 329.19933 60.829845 \r\nL 334.030499 60.829845 \r\nL 338.861668 47.008991 \r\nL 343.692837 47.008991 \r\nL 348.524006 32.177386 \r\n\" style=\"fill:none;stroke:#1f77b4;stroke-dasharray:1.5,2.475;stroke-dashoffset:0;stroke-width:1.5;\"/>\r\n   </g>\r\n   <g id=\"line2d_16\">\r\n    <path clip-path=\"url(#p8304b6daa6)\" d=\"M 44.160369 229.850114 \r\nL 48.991538 215.018509 \r\nL 53.822707 215.018509 \r\nL 58.653876 201.197655 \r\nL 63.485045 201.197655 \r\nL 68.316213 200.186905 \r\nL 73.147382 186.36605 \r\nL 77.978551 186.36605 \r\nL 82.80972 186.36605 \r\nL 87.640889 186.36605 \r\nL 92.472058 174.497813 \r\nL 97.303226 174.497813 \r\nL 102.134395 172.545196 \r\nL 106.965564 171.534446 \r\nL 111.796733 171.534446 \r\nL 116.627902 159.666209 \r\nL 121.459071 159.666209 \r\nL 126.290239 159.666209 \r\nL 131.121408 159.666209 \r\nL 135.952577 157.713591 \r\nL 140.783746 157.713591 \r\nL 145.614915 145.845354 \r\nL 150.446084 145.845354 \r\nL 155.277252 145.845354 \r\nL 160.108421 145.845354 \r\nL 164.93959 144.834605 \r\nL 169.770759 144.834605 \r\nL 174.601928 142.881987 \r\nL 179.433097 131.01375 \r\nL 184.264265 131.01375 \r\nL 189.095434 131.01375 \r\nL 193.926603 131.01375 \r\nL 198.757772 131.01375 \r\nL 203.588941 131.01375 \r\nL 208.42011 131.01375 \r\nL 213.251278 131.01375 \r\nL 218.082447 119.145513 \r\nL 222.913616 117.192895 \r\nL 227.744785 117.192895 \r\nL 232.575954 116.182146 \r\nL 237.407123 116.182146 \r\nL 242.238291 116.182146 \r\nL 247.06946 116.182146 \r\nL 251.900629 104.313909 \r\nL 256.731798 104.313909 \r\nL 261.562967 102.361291 \r\nL 266.394136 102.361291 \r\nL 271.225304 102.361291 \r\nL 276.056473 102.361291 \r\nL 280.887642 90.493054 \r\nL 285.718811 90.493054 \r\nL 290.54998 89.482304 \r\nL 295.381149 87.529687 \r\nL 300.212317 87.529687 \r\nL 305.043486 75.66145 \r\nL 309.874655 75.66145 \r\nL 314.705824 75.66145 \r\nL 319.536993 75.66145 \r\nL 324.368162 61.840595 \r\nL 329.19933 60.829845 \r\nL 334.030499 60.829845 \r\nL 338.861668 47.008991 \r\nL 343.692837 47.008991 \r\nL 348.524006 32.177386 \r\n\" style=\"fill:none;stroke:#ff7f0e;stroke-dasharray:5.55,2.4;stroke-dashoffset:0;stroke-width:1.5;\"/>\r\n   </g>\r\n   <g id=\"patch_3\">\r\n    <path d=\"M 28.942188 239.73375 \r\nL 28.942188 22.29375 \r\n\" style=\"fill:none;stroke:#000000;stroke-linecap:square;stroke-linejoin:miter;stroke-width:0.8;\"/>\r\n   </g>\r\n   <g id=\"patch_4\">\r\n    <path d=\"M 363.742188 239.73375 \r\nL 363.742188 22.29375 \r\n\" style=\"fill:none;stroke:#000000;stroke-linecap:square;stroke-linejoin:miter;stroke-width:0.8;\"/>\r\n   </g>\r\n   <g id=\"patch_5\">\r\n    <path d=\"M 28.942188 239.73375 \r\nL 363.742188 239.73375 \r\n\" style=\"fill:none;stroke:#000000;stroke-linecap:square;stroke-linejoin:miter;stroke-width:0.8;\"/>\r\n   </g>\r\n   <g id=\"patch_6\">\r\n    <path d=\"M 28.942188 22.29375 \r\nL 363.742188 22.29375 \r\n\" style=\"fill:none;stroke:#000000;stroke-linecap:square;stroke-linejoin:miter;stroke-width:0.8;\"/>\r\n   </g>\r\n   <g id=\"text_15\">\r\n    <!-- $t=1$, $V=0$, $\\mu=0$ -->\r\n    <defs>\r\n     <path d=\"M 42.28125 54.6875 \r\nL 40.921875 47.703125 \r\nL 23 47.703125 \r\nL 17.1875 18.015625 \r\nQ 16.890625 16.359375 16.75 15.234375 \r\nQ 16.609375 14.109375 16.609375 13.484375 \r\nQ 16.609375 10.359375 18.484375 8.9375 \r\nQ 20.359375 7.515625 24.515625 7.515625 \r\nL 33.59375 7.515625 \r\nL 32.078125 0 \r\nL 23.484375 0 \r\nQ 15.484375 0 11.546875 3.125 \r\nQ 7.625 6.25 7.625 12.59375 \r\nQ 7.625 13.71875 7.765625 15.0625 \r\nQ 7.90625 16.40625 8.203125 18.015625 \r\nL 14.015625 47.703125 \r\nL 6.390625 47.703125 \r\nL 7.8125 54.6875 \r\nL 15.28125 54.6875 \r\nL 18.3125 70.21875 \r\nL 27.296875 70.21875 \r\nL 24.3125 54.6875 \r\nz\r\n\" id=\"DejaVuSans-Oblique-116\"/>\r\n     <path d=\"M 10.59375 45.40625 \r\nL 73.1875 45.40625 \r\nL 73.1875 37.203125 \r\nL 10.59375 37.203125 \r\nz\r\nM 10.59375 25.484375 \r\nL 73.1875 25.484375 \r\nL 73.1875 17.1875 \r\nL 10.59375 17.1875 \r\nz\r\n\" id=\"DejaVuSans-61\"/>\r\n     <path d=\"M 11.71875 12.40625 \r\nL 22.015625 12.40625 \r\nL 22.015625 4 \r\nL 14.015625 -11.625 \r\nL 7.71875 -11.625 \r\nL 11.71875 4 \r\nz\r\n\" id=\"DejaVuSans-44\"/>\r\n     <path id=\"DejaVuSans-32\"/>\r\n     <path d=\"M 20.609375 0 \r\nL 7.8125 72.90625 \r\nL 17.484375 72.90625 \r\nL 28.078125 10.203125 \r\nL 63.484375 72.90625 \r\nL 74.21875 72.90625 \r\nL 32.078125 0 \r\nz\r\n\" id=\"DejaVuSans-Oblique-86\"/>\r\n     <path d=\"M -1.3125 -20.796875 \r\nL 13.375 54.6875 \r\nL 22.40625 54.6875 \r\nL 15.765625 20.65625 \r\nQ 15.578125 19.625 15.421875 18.359375 \r\nQ 15.28125 17.09375 15.28125 15.828125 \r\nQ 15.28125 11.28125 18.140625 8.828125 \r\nQ 21 6.390625 26.3125 6.390625 \r\nQ 33.546875 6.390625 37.984375 10.484375 \r\nQ 42.4375 14.59375 44 22.796875 \r\nL 50.203125 54.6875 \r\nL 59.1875 54.6875 \r\nL 51.03125 12.640625 \r\nQ 50.828125 11.71875 50.75 11.03125 \r\nQ 50.6875 10.359375 50.6875 9.8125 \r\nQ 50.6875 8.296875 51.296875 7.59375 \r\nQ 51.90625 6.890625 53.21875 6.890625 \r\nQ 53.71875 6.890625 54.5625 7.125 \r\nQ 55.421875 7.375 56.984375 8.015625 \r\nL 55.609375 0.78125 \r\nQ 53.46875 -0.296875 51.515625 -0.859375 \r\nQ 49.5625 -1.421875 47.703125 -1.421875 \r\nQ 44.484375 -1.421875 42.65625 0.625 \r\nQ 40.828125 2.6875 40.828125 6.296875 \r\nQ 38.09375 2.390625 34.296875 0.484375 \r\nQ 30.515625 -1.421875 25.390625 -1.421875 \r\nQ 20.84375 -1.421875 17.453125 0.671875 \r\nQ 14.0625 2.78125 12.984375 6.203125 \r\nL 7.71875 -20.796875 \r\nz\r\n\" id=\"DejaVuSans-Oblique-956\"/>\r\n    </defs>\r\n    <g transform=\"translate(144.862188 16.29375)scale(0.12 -0.12)\">\r\n     <use transform=\"translate(0 0.78125)\" xlink:href=\"#DejaVuSans-Oblique-116\"/>\r\n     <use transform=\"translate(58.691406 0.78125)\" xlink:href=\"#DejaVuSans-61\"/>\r\n     <use transform=\"translate(161.962891 0.78125)\" xlink:href=\"#DejaVuSans-49\"/>\r\n     <use transform=\"translate(225.585938 0.78125)\" xlink:href=\"#DejaVuSans-44\"/>\r\n     <use transform=\"translate(257.373047 0.78125)\" xlink:href=\"#DejaVuSans-32\"/>\r\n     <use transform=\"translate(289.160156 0.78125)\" xlink:href=\"#DejaVuSans-Oblique-86\"/>\r\n     <use transform=\"translate(377.050781 0.78125)\" xlink:href=\"#DejaVuSans-61\"/>\r\n     <use transform=\"translate(480.322266 0.78125)\" xlink:href=\"#DejaVuSans-48\"/>\r\n     <use transform=\"translate(543.945312 0.78125)\" xlink:href=\"#DejaVuSans-44\"/>\r\n     <use transform=\"translate(575.732422 0.78125)\" xlink:href=\"#DejaVuSans-32\"/>\r\n     <use transform=\"translate(607.519531 0.78125)\" xlink:href=\"#DejaVuSans-Oblique-956\"/>\r\n     <use transform=\"translate(690.625 0.78125)\" xlink:href=\"#DejaVuSans-61\"/>\r\n     <use transform=\"translate(793.896484 0.78125)\" xlink:href=\"#DejaVuSans-48\"/>\r\n    </g>\r\n   </g>\r\n   <g id=\"legend_1\">\r\n    <g id=\"patch_7\">\r\n     <path d=\"M 35.942188 59.670312 \r\nL 100.742188 59.670312 \r\nQ 102.742188 59.670312 102.742188 57.670312 \r\nL 102.742188 29.29375 \r\nQ 102.742188 27.29375 100.742188 27.29375 \r\nL 35.942188 27.29375 \r\nQ 33.942188 27.29375 33.942188 29.29375 \r\nL 33.942188 57.670312 \r\nQ 33.942188 59.670312 35.942188 59.670312 \r\nz\r\n\" style=\"fill:#ffffff;opacity:0.8;stroke:#cccccc;stroke-linejoin:miter;\"/>\r\n    </g>\r\n    <g id=\"line2d_17\">\r\n     <path d=\"M 37.942188 35.392187 \r\nL 57.942188 35.392187 \r\n\" style=\"fill:none;stroke:#1f77b4;stroke-dasharray:1.5,2.475;stroke-dashoffset:0;stroke-width:1.5;\"/>\r\n    </g>\r\n    <g id=\"line2d_18\"/>\r\n    <g id=\"text_16\">\r\n     <!-- $Target$ -->\r\n     <defs>\r\n      <path d=\"M 5.90625 72.90625 \r\nL 67.578125 72.90625 \r\nL 66.015625 64.59375 \r\nL 39.984375 64.59375 \r\nL 27.484375 0 \r\nL 17.578125 0 \r\nL 30.078125 64.59375 \r\nL 4.296875 64.59375 \r\nz\r\n\" id=\"DejaVuSans-Oblique-84\"/>\r\n      <path d=\"M 53.71875 31.203125 \r\nL 47.609375 0 \r\nL 38.625 0 \r\nL 40.28125 8.296875 \r\nQ 36.328125 3.421875 31.265625 1 \r\nQ 26.21875 -1.421875 20.015625 -1.421875 \r\nQ 13.03125 -1.421875 8.5625 2.84375 \r\nQ 4.109375 7.125 4.109375 13.8125 \r\nQ 4.109375 23.390625 11.75 28.953125 \r\nQ 19.390625 34.515625 32.8125 34.515625 \r\nL 45.3125 34.515625 \r\nL 45.796875 36.921875 \r\nQ 45.90625 37.3125 45.953125 37.765625 \r\nQ 46 38.234375 46 39.203125 \r\nQ 46 43.5625 42.453125 45.96875 \r\nQ 38.921875 48.390625 32.515625 48.390625 \r\nQ 28.125 48.390625 23.5 47.265625 \r\nQ 18.890625 46.140625 14.015625 43.890625 \r\nL 15.578125 52.203125 \r\nQ 20.65625 54.109375 25.515625 55.046875 \r\nQ 30.375 56 34.90625 56 \r\nQ 44.578125 56 49.625 51.796875 \r\nQ 54.6875 47.609375 54.6875 39.59375 \r\nQ 54.6875 37.984375 54.4375 35.8125 \r\nQ 54.203125 33.640625 53.71875 31.203125 \r\nz\r\nM 44 27.484375 \r\nL 35.015625 27.484375 \r\nQ 23.96875 27.484375 18.671875 24.53125 \r\nQ 13.375 21.578125 13.375 15.375 \r\nQ 13.375 11.078125 16.078125 8.640625 \r\nQ 18.796875 6.203125 23.578125 6.203125 \r\nQ 30.90625 6.203125 36.375 11.453125 \r\nQ 41.84375 16.703125 43.609375 25.484375 \r\nz\r\n\" id=\"DejaVuSans-Oblique-97\"/>\r\n      <path d=\"M 44.578125 46.390625 \r\nQ 43.21875 47.125 41.453125 47.515625 \r\nQ 39.703125 47.90625 37.703125 47.90625 \r\nQ 30.515625 47.90625 25.140625 42.453125 \r\nQ 19.78125 37.015625 18.015625 27.875 \r\nL 12.5 0 \r\nL 3.515625 0 \r\nL 14.203125 54.6875 \r\nL 23.1875 54.6875 \r\nL 21.484375 46.1875 \r\nQ 25.046875 50.921875 30 53.453125 \r\nQ 34.96875 56 40.578125 56 \r\nQ 42.046875 56 43.453125 55.828125 \r\nQ 44.875 55.671875 46.296875 55.28125 \r\nz\r\n\" id=\"DejaVuSans-Oblique-114\"/>\r\n      <path d=\"M 59.625 54.6875 \r\nL 50.296875 6.78125 \r\nQ 47.609375 -7.125 40.015625 -13.953125 \r\nQ 32.421875 -20.796875 19.578125 -20.796875 \r\nQ 14.84375 -20.796875 10.78125 -20.09375 \r\nQ 6.734375 -19.390625 3.21875 -17.921875 \r\nL 4.890625 -9.1875 \r\nQ 8.203125 -11.328125 11.90625 -12.34375 \r\nQ 15.625 -13.375 19.828125 -13.375 \r\nQ 28.375 -13.375 33.859375 -8.703125 \r\nQ 39.359375 -4.046875 41.109375 4.6875 \r\nL 41.890625 8.796875 \r\nQ 38.140625 4.5 33.15625 2.25 \r\nQ 28.171875 0 22.40625 0 \r\nQ 14.109375 0 9.34375 5.484375 \r\nQ 4.59375 10.984375 4.59375 20.609375 \r\nQ 4.59375 28.171875 7.46875 35.421875 \r\nQ 10.359375 42.671875 15.578125 48.296875 \r\nQ 19.046875 52 23.65625 54 \r\nQ 28.265625 56 33.296875 56 \r\nQ 38.8125 56 42.90625 53.4375 \r\nQ 47.015625 50.875 49.03125 46.1875 \r\nL 50.59375 54.6875 \r\nz\r\nM 46.09375 34.625 \r\nQ 46.09375 41.265625 42.96875 44.875 \r\nQ 39.84375 48.484375 34.078125 48.484375 \r\nQ 30.515625 48.484375 27.296875 47.0625 \r\nQ 24.078125 45.65625 21.78125 43.109375 \r\nQ 18.0625 38.921875 15.984375 33.234375 \r\nQ 13.921875 27.546875 13.921875 21.484375 \r\nQ 13.921875 14.75 17.0625 11.125 \r\nQ 20.21875 7.515625 26.125 7.515625 \r\nQ 34.671875 7.515625 40.375 15.25 \r\nQ 46.09375 23 46.09375 34.625 \r\nz\r\n\" id=\"DejaVuSans-Oblique-103\"/>\r\n      <path d=\"M 48.09375 32.234375 \r\nQ 48.25 33.015625 48.3125 33.84375 \r\nQ 48.390625 34.671875 48.390625 35.5 \r\nQ 48.390625 41.453125 44.890625 44.921875 \r\nQ 41.40625 48.390625 35.40625 48.390625 \r\nQ 28.71875 48.390625 23.578125 44.15625 \r\nQ 18.453125 39.9375 15.828125 32.171875 \r\nz\r\nM 55.90625 25.203125 \r\nL 14.109375 25.203125 \r\nQ 13.8125 23.34375 13.71875 22.265625 \r\nQ 13.625 21.1875 13.625 20.40625 \r\nQ 13.625 13.625 17.796875 9.90625 \r\nQ 21.96875 6.203125 29.59375 6.203125 \r\nQ 35.453125 6.203125 40.671875 7.515625 \r\nQ 45.90625 8.84375 50.390625 11.375 \r\nL 48.6875 2.484375 \r\nQ 43.84375 0.53125 38.6875 -0.4375 \r\nQ 33.546875 -1.421875 28.21875 -1.421875 \r\nQ 16.84375 -1.421875 10.71875 4.015625 \r\nQ 4.59375 9.46875 4.59375 19.484375 \r\nQ 4.59375 28.03125 7.640625 35.375 \r\nQ 10.6875 42.71875 16.609375 48.484375 \r\nQ 20.40625 52.09375 25.65625 54.046875 \r\nQ 30.90625 56 36.8125 56 \r\nQ 46.09375 56 51.578125 50.4375 \r\nQ 57.078125 44.875 57.078125 35.5 \r\nQ 57.078125 33.25 56.78125 30.6875 \r\nQ 56.5 28.125 55.90625 25.203125 \r\nz\r\n\" id=\"DejaVuSans-Oblique-101\"/>\r\n     </defs>\r\n     <g transform=\"translate(65.942188 38.892187)scale(0.1 -0.1)\">\r\n      <use transform=\"translate(0 0.09375)\" xlink:href=\"#DejaVuSans-Oblique-84\"/>\r\n      <use transform=\"translate(61.083984 0.09375)\" xlink:href=\"#DejaVuSans-Oblique-97\"/>\r\n      <use transform=\"translate(122.363281 0.09375)\" xlink:href=\"#DejaVuSans-Oblique-114\"/>\r\n      <use transform=\"translate(163.476562 0.09375)\" xlink:href=\"#DejaVuSans-Oblique-103\"/>\r\n      <use transform=\"translate(226.953125 0.09375)\" xlink:href=\"#DejaVuSans-Oblique-101\"/>\r\n      <use transform=\"translate(288.476562 0.09375)\" xlink:href=\"#DejaVuSans-Oblique-116\"/>\r\n     </g>\r\n    </g>\r\n    <g id=\"line2d_19\">\r\n     <path d=\"M 37.942188 50.090625 \r\nL 57.942188 50.090625 \r\n\" style=\"fill:none;stroke:#ff7f0e;stroke-dasharray:5.55,2.4;stroke-dashoffset:0;stroke-width:1.5;\"/>\r\n    </g>\r\n    <g id=\"line2d_20\"/>\r\n    <g id=\"text_17\">\r\n     <!-- $Sim$ -->\r\n     <defs>\r\n      <path d=\"M 60.296875 70.515625 \r\nL 58.40625 60.890625 \r\nQ 53.46875 63.53125 48.609375 64.875 \r\nQ 43.75 66.21875 39.203125 66.21875 \r\nQ 30.375 66.21875 25.140625 62.359375 \r\nQ 19.921875 58.5 19.921875 52.09375 \r\nQ 19.921875 48.578125 21.84375 46.703125 \r\nQ 23.78125 44.828125 31.78125 42.671875 \r\nL 37.703125 41.21875 \r\nQ 47.703125 38.625 51.609375 34.640625 \r\nQ 55.515625 30.671875 55.515625 23.484375 \r\nQ 55.515625 12.453125 46.84375 5.515625 \r\nQ 38.1875 -1.421875 24.03125 -1.421875 \r\nQ 18.21875 -1.421875 12.359375 -0.265625 \r\nQ 6.5 0.875 0.59375 3.21875 \r\nL 2.59375 13.375 \r\nQ 8.015625 10.015625 13.453125 8.296875 \r\nQ 18.890625 6.59375 24.3125 6.59375 \r\nQ 33.546875 6.59375 39.109375 10.6875 \r\nQ 44.671875 14.796875 44.671875 21.390625 \r\nQ 44.671875 25.78125 42.453125 28.046875 \r\nQ 40.234375 30.328125 32.90625 32.171875 \r\nL 27 33.6875 \r\nQ 16.890625 36.328125 13.203125 39.765625 \r\nQ 9.515625 43.21875 9.515625 49.421875 \r\nQ 9.515625 60.296875 17.890625 67.25 \r\nQ 26.265625 74.21875 39.703125 74.21875 \r\nQ 44.921875 74.21875 50.046875 73.28125 \r\nQ 55.171875 72.359375 60.296875 70.515625 \r\nz\r\n\" id=\"DejaVuSans-Oblique-83\"/>\r\n      <path d=\"M 18.3125 75.984375 \r\nL 27.296875 75.984375 \r\nL 25.09375 64.59375 \r\nL 16.109375 64.59375 \r\nz\r\nM 14.203125 54.6875 \r\nL 23.1875 54.6875 \r\nL 12.5 0 \r\nL 3.515625 0 \r\nz\r\n\" id=\"DejaVuSans-Oblique-105\"/>\r\n      <path d=\"M 89.796875 33.015625 \r\nL 83.40625 0 \r\nL 74.421875 0 \r\nL 80.71875 32.71875 \r\nQ 81.109375 34.8125 81.296875 36.328125 \r\nQ 81.5 37.84375 81.5 38.921875 \r\nQ 81.5 43.3125 79.046875 45.75 \r\nQ 76.609375 48.1875 72.21875 48.1875 \r\nQ 65.671875 48.1875 60.546875 43.28125 \r\nQ 55.421875 38.375 53.90625 30.515625 \r\nL 47.90625 0 \r\nL 38.921875 0 \r\nL 45.3125 32.71875 \r\nQ 45.703125 34.515625 45.890625 36.046875 \r\nQ 46.09375 37.59375 46.09375 38.8125 \r\nQ 46.09375 43.265625 43.65625 45.71875 \r\nQ 41.21875 48.1875 36.921875 48.1875 \r\nQ 30.28125 48.1875 25.140625 43.28125 \r\nQ 20.015625 38.375 18.5 30.515625 \r\nL 12.5 0 \r\nL 3.515625 0 \r\nL 14.203125 54.6875 \r\nL 23.1875 54.6875 \r\nL 21.484375 46.1875 \r\nQ 25.140625 50.984375 30.046875 53.484375 \r\nQ 34.96875 56 40.578125 56 \r\nQ 46.53125 56 50.359375 52.875 \r\nQ 54.203125 49.75 54.984375 44.1875 \r\nQ 59.078125 49.953125 64.46875 52.96875 \r\nQ 69.875 56 75.875 56 \r\nQ 82.90625 56 86.734375 51.953125 \r\nQ 90.578125 47.90625 90.578125 40.484375 \r\nQ 90.578125 38.875 90.375 36.9375 \r\nQ 90.1875 35.015625 89.796875 33.015625 \r\nz\r\n\" id=\"DejaVuSans-Oblique-109\"/>\r\n     </defs>\r\n     <g transform=\"translate(65.942188 53.590625)scale(0.1 -0.1)\">\r\n      <use transform=\"translate(0 0.015625)\" xlink:href=\"#DejaVuSans-Oblique-83\"/>\r\n      <use transform=\"translate(63.476562 0.015625)\" xlink:href=\"#DejaVuSans-Oblique-105\"/>\r\n      <use transform=\"translate(91.259766 0.015625)\" xlink:href=\"#DejaVuSans-Oblique-109\"/>\r\n     </g>\r\n    </g>\r\n   </g>\r\n  </g>\r\n </g>\r\n <defs>\r\n  <clipPath id=\"p8304b6daa6\">\r\n   <rect height=\"217.44\" width=\"334.8\" x=\"28.942188\" y=\"22.29375\"/>\r\n  </clipPath>\r\n </defs>\r\n</svg>\r\n",
      "image/png": "[encoded data removed]"
     },
     "metadata": {
      "needs_background": "light"
     }
    }
   ],
   "source": [
    "plt.plot(gex, ':', label=r'$Target$') #exact Hubbard energies\n",
    "# plt.plot(newpvals, '--',label=r'$Sim$')\n",
    "plt.plot(rens, '--',label=r'$Sim$')\n",
    "\n",
    "plt.title(r'$t={}$, $V={}$, $\\mu={}$'.format(T_PARAM,V_PARAM,MU_PARAM))\n",
    "plt.legend()\n"
   ]
  },
  {
   "cell_type": "code",
   "execution_count": 1029,
   "metadata": {
    "tags": []
   },
   "outputs": [
    {
     "output_type": "stream",
     "name": "stdout",
     "text": "[[ 1  8]\n [ 2 16]\n [ 3 10]\n [ 4 32]\n [ 5 12]]\n"
    }
   ],
   "source": [
    "diff = (Hexact - rotHam).round(2)\n",
    "ii,jj = np.where(diff)\n",
    "difflist=[]\n",
    "for k in range(ii.size):\n",
    "    check = (ii[k],jj[k])\n",
    "    difflist.append(check)\n",
    "    # print(Hexact[check], rotHam[check])\n",
    "    # print(check)\n",
    "difflist=np.array(difflist)\n",
    "print(difflist[:5])\n",
    "# check=(2,16)\n"
   ]
  },
  {
   "cell_type": "code",
   "execution_count": 1030,
   "metadata": {
    "tags": []
   },
   "outputs": [
    {
     "output_type": "stream",
     "name": "stdout",
     "text": "[[0. 0. 0.]\n [0. 1. 1.]]\n[[0. 0. 1.]\n [0. 1. 0.]]\n0.9999999999999998\n"
    }
   ],
   "source": [
    "print(sql.state_local_occs(state=Uplus[:,3]))\n",
    "print(sql.state_local_occs(state=Uplus[:,10]))\n",
    "\n",
    "# print(hub.stateOccs(qu.basis_vec(i=3, dim=64)))\n",
    "# print(hub.stateOccs(qu.basis_vec(i=10, dim=64)))\n",
    "\n",
    "# xx = qu.ikron(qu.pauli('x'), dims=sql._dims, inds=[6])\n",
    "print(qu.expec(xx, Uplus[:,3]))\n"
   ]
  },
  {
   "cell_type": "code",
   "execution_count": 1034,
   "metadata": {
    "tags": []
   },
   "outputs": [
    {
     "output_type": "stream",
     "name": "stdout",
     "text": "[[0. 1. 0.]\n [0. 0. 0.]]\n[[0. 1. 0.]\n [0. 0. 0.]]\n"
    },
    {
     "output_type": "execute_result",
     "data": {
      "text/plain": "-0.9999999999999996"
     },
     "metadata": {},
     "execution_count": 1034
    }
   ],
   "source": [
    "for k in range(64):\n",
    "    A = hub.state_occs(qu.basis_vec(i=k, dim=64))\n",
    "    B = sql.state_local_occs(state=Uplus[:,k])\n",
    "    assert np.allclose(A,B)\n",
    "    # print(A,end='\\n\\n')\n",
    "    # print(B,end='\\n\\n...\\n\\n')\n",
    "wh=2    \n",
    "# print(hub.stateOccs(Hexact@qu.basis_vec(i=2, dim=64)))\n",
    "print(hub.state_occs(Hexact[:,2]))\n",
    "print(sql.state_local_occs(state=Uplus@rotHam[:,2], faces=0))\n",
    "# Hexact[:,2]\n",
    "sql.faceX(Uplus@rotHam[:,2])"
   ]
  },
  {
   "cell_type": "code",
   "execution_count": 1064,
   "metadata": {
    "tags": []
   },
   "outputs": [
    {
     "output_type": "stream",
     "name": "stdout",
     "text": "[[0. 0. 1.]\n [0. 1. 0.]]\n"
    },
    {
     "output_type": "execute_result",
     "data": {
      "text/plain": "(array([0], dtype=int64),\n array([0], dtype=int64),\n array([1], dtype=int64),\n array([0], dtype=int64),\n array([1], dtype=int64),\n array([0], dtype=int64))"
     },
     "metadata": {},
     "execution_count": 1064
    }
   ],
   "source": [
    "for k in [10]:\n",
    "    vi = qu.basis_vec(i=k, dim=64)\n",
    "    print(hub.state_occs(vi))\n",
    "    # print(hub.parity(vi), end='\\n\\n')\n",
    "\n",
    "vvi = vi.reshape(2,2,2,2,2,2)\n",
    "vvi.nonzero()"
   ]
  },
  {
   "cell_type": "code",
   "execution_count": 1075,
   "metadata": {
    "tags": []
   },
   "outputs": [
    {
     "output_type": "stream",
     "name": "stdout",
     "text": "(0, 0, 0, 0) -> 1.0\n(0, 0, 0, 1) -> 0.0\n(0, 0, 1, 0) -> 0.0\n(0, 0, 1, 1) -> 0.0\n(0, 1, 0, 0) -> 0.0\n(0, 1, 0, 1) -> 0.0\n(0, 1, 1, 0) -> 1.0\n(0, 1, 1, 1) -> 0.0\n(1, 0, 0, 0) -> 0.0\n(1, 0, 0, 1) -> 1.0\n(1, 0, 1, 0) -> 0.0\n(1, 0, 1, 1) -> 0.0\n(1, 1, 0, 0) -> 0.0\n(1, 1, 0, 1) -> 0.0\n(1, 1, 1, 0) -> 0.0\n(1, 1, 1, 1) -> 1.0\n"
    }
   ],
   "source": [
    "# for y, x, y1, x1 in itertools.product(range(2), repeat=4):\n",
    "#     print(y,x,y1,x1)\n",
    "hub.b_swap_gate()"
   ]
  }
 ],
 "metadata": {
  "kernelspec": {
   "display_name": "Python 3",
   "language": "python",
   "name": "python3"
  },
  "language_info": {
   "codemirror_mode": {
    "name": "ipython",
    "version": 3
   },
   "file_extension": ".py",
   "mimetype": "text/x-python",
   "name": "python",
   "nbconvert_exporter": "python",
   "pygments_lexer": "ipython3",
   "version": "3.7.6"
  }
 },
 "nbformat": 4,
 "nbformat_minor": 4
}