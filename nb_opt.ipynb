{
 "metadata": {
  "language_info": {
   "codemirror_mode": {
    "name": "ipython",
    "version": 3
   },
   "file_extension": ".py",
   "mimetype": "text/x-python",
   "name": "python",
   "nbconvert_exporter": "python",
   "pygments_lexer": "ipython3",
   "version": "3.7.9-final"
  },
  "orig_nbformat": 2,
  "kernelspec": {
   "name": "python_defaultSpec_1600213201118",
   "display_name": "Python 3.7.9 64-bit ('encoding_tns': conda)"
  }
 },
 "nbformat": 4,
 "nbformat_minor": 2,
 "cells": [
  {
   "cell_type": "code",
   "execution_count": 6,
   "metadata": {},
   "outputs": [],
   "source": [
    "import autoray\n",
    "from importlib import reload\n",
    "\n",
    "def tf_qr(x):\n",
    "    U, s, VH = autoray.do('linalg.svd', x)\n",
    "    \n",
    "    dtype = autoray.get_dtype_name(U)\n",
    "    if 'complex' in dtype:\n",
    "        s = autoray.astype(s, dtype)\n",
    "    \n",
    "    Q = U\n",
    "    R = autoray.reshape(s, (-1, 1)) * VH\n",
    "    \n",
    "    return Q, R\n",
    "\n",
    "\n",
    "autoray.register_function('tensorflow', 'linalg.qr', tf_qr)"
   ]
  },
  {
   "cell_type": "code",
   "execution_count": 3,
   "metadata": {},
   "outputs": [],
   "source": [
    "import qubit_networks as beeky\n",
    "import quimb as qu\n",
    "import quimb.tensor as qtn\n",
    "from quimb.tensor.optimize import TNOptimizer\n",
    "\n",
    "LX, LY = 2, 3\n",
    "DTYPE = 'complex128'\n",
    "\n",
    "autodiff_backend = 'tensorflow'\n",
    "autodiff_backend_opts = {'experimental_compile': True}\n",
    "\n",
    "def state_energy(\n",
    "    psi: beeky.QubitEncodeVector,\n",
    "    hterms: dict,\n",
    "    vterms: dict,\n",
    "    **opts):\n",
    "    '''Energy <psi|H|psi>, summing contribns from\n",
    "    horiz/vertical terms in Hamiltonian.\n",
    "    '''\n",
    "\n",
    "    # TODO: compute row/col envs first?\n",
    "    he = psi.compute_local_expectation(\n",
    "        hterms, normalized=True, **opts)\n",
    "\n",
    "    ve = psi.compute_local_expectation(\n",
    "        vterms, normalized=True, **opts)        \n",
    "    \n",
    "    return autoray.do('real', (he + ve))\n"
   ]
  },
  {
   "cell_type": "code",
   "execution_count": 13,
   "metadata": {
    "tags": []
   },
   "outputs": [
    {
     "output_type": "stream",
     "name": "stdout",
     "text": "(Lx=2, Ly=3) -- GSE EXACT: -3.8284271247461894\n"
    }
   ],
   "source": [
    "import exact_jwt\n",
    "reload(exact_jwt)\n",
    "\n",
    "analytical = exact_jwt.HubbardSpinless(LX, LY)\n",
    "analytical.build_spinless_ham()\n",
    "Hexact = analytical._Ham.copy()\n",
    "gex, gsx = qu.eigh(Hexact)\n",
    "gs_exact = gex[0]\n",
    "print(f'(Lx={LX}, Ly={LY}) -- GSE EXACT: {gs_exact}')\n"
   ]
  },
  {
   "cell_type": "code",
   "execution_count": 18,
   "metadata": {},
   "outputs": [],
   "source": [
    "reload(beeky)\n",
    "HubSimHam = beeky.SpinlessSimHam(Lx=LX, Ly=LY)\n",
    "\n",
    "horizontal_terms = dict(HubSimHam.gen_horizontal_ham_terms())\n",
    "vertical_terms = dict(HubSimHam.gen_vertical_ham_terms())\n",
    "\n",
    "Hstab = beeky.HamStab(Lx=LX, Ly=LY)\n",
    "stab_terms = dict(Hstab.gen_ham_terms())\n",
    "\n",
    "compute_expec_opts = dict(\n",
    "                cutoff=0.0, \n",
    "                max_bond=9, \n",
    "                contract_optimize='random-greedy')\n",
    "\n",
    "psi0 = beeky.QubitEncodeVector.rand(Lx=LX, Ly=LY, bond_dim=2, dtype=DTYPE)\n",
    "\n",
    "psi0.setup_bmps_contraction_()\n",
    "\n",
    "    \n",
    "optmzr = TNOptimizer(\n",
    "    psi0, # initial state guess\n",
    "    loss_fn=state_energy,\n",
    "    constant_tags=['AUX',],\n",
    "    loss_constants={'hterms': horizontal_terms,\n",
    "                    'vterms': vertical_terms},\n",
    "    loss_kwargs=compute_expec_opts,\n",
    "    autodiff_backend=autodiff_backend,\n",
    "    **autodiff_backend_opts)\n"
   ]
  },
  {
   "cell_type": "code",
   "execution_count": 21,
   "metadata": {
    "tags": []
   },
   "outputs": [
    {
     "output_type": "stream",
     "name": "stdout",
     "text": "INITIAL: -0.08195621459431111\nSTAB0: (-0.04546644948219246+1.2303027689128064e-17j)\n"
    }
   ],
   "source": [
    "E0 = state_energy(psi0, horizontal_terms, vertical_terms)\n",
    "print(f'INITIAL: {E0}')\n",
    "\n",
    "expec_stab_0 = psi0.compute_ham_expec(Hstab)\n",
    "print(f'STAB0: {expec_stab_0}')"
   ]
  },
  {
   "cell_type": "code",
   "execution_count": 30,
   "metadata": {
    "tags": []
   },
   "outputs": [
    {
     "output_type": "stream",
     "name": "stderr",
     "text": "0%|          | 0/70 [00:45<?, ?it/s]\n"
    }
   ],
   "source": [
    "tn_opt = optmzr.optimize(70)"
   ]
  },
  {
   "cell_type": "code",
   "execution_count": 32,
   "metadata": {},
   "outputs": [
    {
     "output_type": "execute_result",
     "data": {
      "text/plain": "-1.199527949434156"
     },
     "metadata": {},
     "execution_count": 32
    }
   ],
   "source": [
    "# tn_opt.compute_ham_expec(Hstab)\n",
    "state_energy(tn_opt, horizontal_terms, vertical_terms)"
   ]
  }
 ]
}